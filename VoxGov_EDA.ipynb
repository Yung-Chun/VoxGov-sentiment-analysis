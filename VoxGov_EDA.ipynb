{
 "cells": [
  {
   "cell_type": "code",
   "execution_count": 64,
   "metadata": {},
   "outputs": [],
   "source": [
    "import json\n",
    "import pandas as pd\n",
    "import numpy as np\n",
    "from glob import glob\n",
    "import seaborn as sns\n",
    "import matplotlib.pyplot as plt"
   ]
  },
  {
   "cell_type": "markdown",
   "metadata": {},
   "source": [
    "# Split large data"
   ]
  },
  {
   "cell_type": "code",
   "execution_count": null,
   "metadata": {},
   "outputs": [],
   "source": [
    "# input_file = 'VoxGov.jsonl'\n",
    "# output_prefix = 'VoxGov_sp'\n",
    "# lines_per_file = 15000  # Adjust this number as needed\n",
    "\n",
    "# file_number = 1\n",
    "# line_count = 0\n",
    "# current_file = None\n",
    "\n",
    "# def is_valid_json(line):\n",
    "#     try:\n",
    "#         json.loads(line)\n",
    "#         return True\n",
    "#     except json.JSONDecodeError:\n",
    "#         return False\n",
    "\n",
    "# with open(input_file, 'r') as infile:\n",
    "#     for line in infile:\n",
    "#         if line_count % lines_per_file == 0:\n",
    "#             if current_file:\n",
    "#                 current_file.close()\n",
    "#             output_file = f\"{output_prefix}_{file_number}.jsonl\"\n",
    "#             current_file = open(output_file, 'w')\n",
    "#             file_number += 1\n",
    "        \n",
    "#         if is_valid_json(line.strip()):\n",
    "#             current_file.write(line)\n",
    "#             line_count += 1\n",
    "#         else:\n",
    "#             print(f\"Skipping invalid JSON line: {line.strip()}\")\n",
    "\n",
    "#     if current_file:\n",
    "#         current_file.close()\n",
    "\n",
    "#     print(f\"Split complete. Created {file_number - 1} files.\")"
   ]
  },
  {
   "cell_type": "code",
   "execution_count": 14,
   "metadata": {},
   "outputs": [],
   "source": [
    "source = set()\n",
    "sourceType = set()\n",
    "organizations = set()\n",
    "places = set()\n",
    "\n",
    "\n",
    "with open('VoxGov.jsonl', 'r') as file:\n",
    "    for i, line in enumerate(file, start=1):\n",
    "        # print(line.strip())\n",
    "        data = json.loads(line.strip())\n",
    "        if 'source' in data.keys():\n",
    "            source.add(data['source'])\n",
    "        # if 'sourceType' in data.keys():\n",
    "        #     sourceType.add(data['sourceType'])\n",
    "        # if 'organizations' in data.keys():\n",
    "        #     organizations = organizations.union(set(data['organizations']))\n",
    "        # if 'places' in data.keys():\n",
    "        #     places = places.union(set(data['places']))"
   ]
  },
  {
   "cell_type": "code",
   "execution_count": 15,
   "metadata": {},
   "outputs": [
    {
     "name": "stdout",
     "output_type": "stream",
     "text": [
      "2137\n"
     ]
    }
   ],
   "source": [
    "print(len(source))\n",
    "# print(len(sourceType))\n",
    "# print(len(organizations))\n",
    "# print(len(places))"
   ]
  },
  {
   "cell_type": "code",
   "execution_count": 21,
   "metadata": {},
   "outputs": [
    {
     "data": {
      "text/plain": [
       "['Senate Cmte. on Energy and Natural Resources',\n",
       " \"Senate Cmte. on Veterans' Affairs\",\n",
       " 'Senate Cmte. on Appropriations',\n",
       " 'Senate Committee on Agriculture, Nutrition, and Forestry',\n",
       " 'Senate Cmte. on the Budget',\n",
       " 'Senate Cmte. on Armed Services',\n",
       " 'Senate Cmte. on Health, Education, Labor and Pensions',\n",
       " 'Senate Cmte. on Commerce, Science, and Transportation',\n",
       " 'Senate Caucus on International Narcotics Control',\n",
       " 'Senate Cmte. on the Judiciary',\n",
       " 'Senate Cmte. on Agriculture, Nutrition & Forestry',\n",
       " 'Senate Cmte. on Indian Affairs',\n",
       " 'Senate Cmte. on Foreign Relations',\n",
       " 'Senate Cmte. on Environment and Public Works',\n",
       " 'Senate Democratic Policy and Communications Cmte. (DPCC)',\n",
       " 'Senate Republican Leader - Mitch McConnell - (R - KY)',\n",
       " 'Senate Cmte. on Small Business and Entrepreneurship',\n",
       " 'Senate Cmte. on Banking, Housing, and Urban Affairs',\n",
       " 'Senate Republican Policy Cmte. (RPC)',\n",
       " 'Senate Cmte. on Homeland Security & Governmental Affairs',\n",
       " 'Senate Cmte. on Finance',\n",
       " 'Senate Democratic Caucus',\n",
       " 'Senate Select Cmte. on Intelligence']"
      ]
     },
     "execution_count": 21,
     "metadata": {},
     "output_type": "execute_result"
    }
   ],
   "source": [
    "[x for x in source if x.startswith('Senate')]"
   ]
  },
  {
   "cell_type": "code",
   "execution_count": 35,
   "metadata": {},
   "outputs": [
    {
     "name": "stdout",
     "output_type": "stream",
     "text": [
      "4484\n"
     ]
    }
   ],
   "source": [
    "VoxGov_post = []\n",
    "\n",
    "with open('VoxGov.jsonl', 'r') as file:\n",
    "    for i, line in enumerate(file, start=1):\n",
    "        data = json.loads(line.strip())\n",
    "\n",
    "        try:\n",
    "            source = data['source'].lower()\n",
    "\n",
    "            if source.startswith('rep'):\n",
    "                source_category = 'rep'\n",
    "                VoxGov_post.append([data['id'], source_category, data['source'], data['sourceType'], data['title'], data['text'], data['url'], data['date'], \n",
    "                                data['organizations'], data['places']])\n",
    "                \n",
    "            elif source.startswith('senate'):\n",
    "                source_category = 'sen'\n",
    "                VoxGov_post.append([data['id'], source_category, data['source'], data['sourceType'], data['title'], data['text'], data['url'], data['date'], \n",
    "                                data['organizations'], data['places']])\n",
    "            else:\n",
    "                pass\n",
    "\n",
    "        except:\n",
    "            continue\n",
    "\n",
    "print(len(VoxGov_post))"
   ]
  },
  {
   "cell_type": "code",
   "execution_count": 37,
   "metadata": {},
   "outputs": [],
   "source": [
    "VoxGov_post = pd.DataFrame(VoxGov_post, columns=['id', 'source_category', 'source', 'sourceType', 'title', 'text', 'url', 'date', 'organizations', 'places'])\n",
    "post_ids = VoxGov_post['id'].tolist()"
   ]
  },
  {
   "cell_type": "code",
   "execution_count": null,
   "metadata": {},
   "outputs": [
    {
     "data": {
      "text/plain": [
       "{'Rep. Aderholt, Robert B. - (R - AL)',\n",
       " 'Rep. Aguilar, Pete - (D - CA)',\n",
       " 'Rep. Allen, Rick W. - (R - GA)',\n",
       " 'Rep. Allred, Colin Z. - (D - TX)',\n",
       " 'Rep. Armstrong, Kelly - (R - ND)',\n",
       " 'Rep. Arrington, Jodey - (R - TX) Campaign',\n",
       " 'Rep. Arrington, Jodey C. - (R - TX)',\n",
       " 'Rep. Bacon, Don - (R - NE)',\n",
       " 'Rep. Banks, Jim - (R - IN)',\n",
       " 'Rep. Barr, Andy - (R - KY)',\n",
       " 'Rep. Beatty, Joyce - (D - OH)',\n",
       " 'Rep. Bera, Ami - (D - CA)',\n",
       " 'Rep. Beyer, Donald S., Jr. - (D - VA)',\n",
       " 'Rep. Biggs, Andy - (R - AZ)',\n",
       " 'Rep. Bilirakis, Gus - (R - FL) Campaign',\n",
       " 'Rep. Bilirakis, Gus M. - (R - FL)',\n",
       " 'Rep. Bishop, Sanford D., Jr. - (D - GA)',\n",
       " 'Rep. Blumenauer, Earl - (D - OR)',\n",
       " 'Rep. Blumenauer, Earl - (D - OR) Campaign',\n",
       " 'Rep. Bonamici, Suzanne - (D - OR)',\n",
       " 'Rep. Bost, Mike - (R - IL)',\n",
       " 'Rep. Bowman, Jamaal - (D - NY) Campaign',\n",
       " 'Rep. Brady, Kevin - (R - TX) 2016 Campaign',\n",
       " 'Rep. Buchanan, Vern - (R - FL)',\n",
       " 'Rep. Buck, Ken - (R - CO) Campaign',\n",
       " 'Rep. Bucshon, Larry - (R - IN)',\n",
       " 'Rep. Burchett, Tim - (R - TN)',\n",
       " 'Rep. Burgess, Michael C. - (R - TX)',\n",
       " 'Rep. Bush, Cori - (D - MO)',\n",
       " 'Rep. Calvert, Ken - (R - CA)',\n",
       " 'Rep. Carson, Andre - (D - IN)',\n",
       " 'Rep. Carter, Earl L. \"Buddy\" - (R - GA)',\n",
       " 'Rep. Carter, John R. - (R - TX)',\n",
       " 'Rep. Case, Ed - (D - HI)',\n",
       " 'Rep. Casten, Sean - (D - IL)',\n",
       " 'Rep. Castor, Kathy - (D - FL)',\n",
       " 'Rep. Castro, Joaquin - (D - TX)',\n",
       " 'Rep. Chabot, Steve - (R - OH) 2020 Campaign',\n",
       " 'Rep. Chu, Judy - (D - CA)',\n",
       " 'Rep. Clark, Katherine M. - (D - MA)',\n",
       " 'Rep. Cleaver, Emanuel - (D - MO)',\n",
       " 'Rep. Cohen, Steve - (D - TN)',\n",
       " 'Rep. Cole, Tom - (R - OK)',\n",
       " 'Rep. Connolly, Gerald E. - (D - VA)',\n",
       " 'Rep. Costa, Jim - (D - CA)',\n",
       " 'Rep. Courtney, Joe - (D - CT)',\n",
       " 'Rep. Crawford, Eric A. \"Rick\" - (R - AR)',\n",
       " 'Rep. Crenshaw, Dan - (R - TX)',\n",
       " 'Rep. Cuellar, Henry - (D - TX)',\n",
       " 'Rep. Cuellar, Henry - (D - TX) 2016 Campaign',\n",
       " 'Rep. Curtis, John R. - (R - UT)',\n",
       " 'Rep. Davidson, Warren - (R - OH)',\n",
       " 'Rep. Davis, Danny K. - (D - IL)',\n",
       " 'Rep. DeFazio, Peter A. - (D - OR) 2020 Campaign',\n",
       " 'Rep. DeGette, Diana - (D - CO)',\n",
       " 'Rep. DeGette, Diana - (D - CO) Campaign',\n",
       " 'Rep. DeLauro, Rosa L. - (D - CT)',\n",
       " 'Rep. DelBene, Suzan K. - (D - WA)',\n",
       " 'Rep. DesJarlais, Scott - (R - TN)',\n",
       " 'Rep. Dingell, Debbie - (D - MI)',\n",
       " 'Rep. Dingell, Debbie - (D - MI) Campaign',\n",
       " 'Rep. Doggett, Lloyd - (D - TX)',\n",
       " 'Rep. Doggett, Lloyd - (D - TX) Campaign',\n",
       " 'Rep. Donalds, Byron - (R - FL)',\n",
       " 'Rep. Duarte, John - (R - CA)',\n",
       " 'Rep. Duncan, Jeff - (R - SC)',\n",
       " 'Rep. Dunn, Neal P. - (R - FL)',\n",
       " 'Rep. Eshoo, Anna G. - (D - CA)',\n",
       " 'Rep. Espaillat, Adriano - (D - NY)',\n",
       " 'Rep. Estes, Ron - (R - KS)',\n",
       " 'Rep. Evans, Dwight - (D - PA)',\n",
       " 'Rep. Evans, Dwight - (D - PA) Campaign',\n",
       " 'Rep. Ezell, Mike - (R - MS)',\n",
       " 'Rep. Feenstra, Randy - (R - IA)',\n",
       " 'Rep. Ferguson, A. Drew, IV - (R - GA)',\n",
       " 'Rep. Fletcher, Lizzie - (D - TX)',\n",
       " 'Rep. Foster, Bill - (D - IL)',\n",
       " 'Rep. Foxx, Virginia - (R - NC)',\n",
       " 'Rep. Gaetz, Matt - (R - FL)',\n",
       " 'Rep. Gallagher, Mike - (R - WI)',\n",
       " 'Rep. Gallagher, Mike - (R - WI) Campaign',\n",
       " 'Rep. Gallego, Ruben - (D - AZ) Campaign',\n",
       " 'Rep. Garamendi, John - (D - CA)',\n",
       " 'Rep. Garamendi, John - (D - CA) 2020 Campaign',\n",
       " 'Rep. Garcia, Jesus G. \"Chuy\" - (D - IL)',\n",
       " 'Rep. Golden, Jared F. - (D - ME)',\n",
       " 'Rep. Gomez, Jimmy - (D - CA) Campaign',\n",
       " 'Rep. Gosar, Paul - (R - AZ) Campaign',\n",
       " 'Rep. Graves, Sam - (R - MO)',\n",
       " 'Rep. Green, Al - (D - TX) 2016 Campaign',\n",
       " 'Rep. Green, Al - (D - TX) 2018 Campaign',\n",
       " 'Rep. Green, Mark E. - (R - TN)',\n",
       " 'Rep. Grijalva, Raul M. - (D - AZ)',\n",
       " 'Rep. Grothman, Glenn - (R - WI)',\n",
       " 'Rep. Hagedorn, Jim - (R - MN) 2020 Campaign',\n",
       " 'Rep. Hern, Kevin - (R - OK)',\n",
       " 'Rep. Higgins, Brian - (D - NY)',\n",
       " 'Rep. Higgins, Clay - (R - LA)',\n",
       " 'Rep. Hill, French - (R – AR) Campaign',\n",
       " 'Rep. Hill, J. French - (R - AR)',\n",
       " 'Rep. Himes, James A. - (D - CT)',\n",
       " 'Rep. Horsford, Steven - (D - NV)',\n",
       " 'Rep. Hoyer, Steny H. - (D - MD)',\n",
       " 'Rep. Hudson, Richard - (R - NC)',\n",
       " 'Rep. Huffman, Jared - (D - CA)',\n",
       " 'Rep. Huffman, Jared - (D - CA) Campaign',\n",
       " 'Rep. Huizenga, Bill - (R - MI)',\n",
       " 'Rep. Issa, Darrell E. - (R - CA)',\n",
       " 'Rep. Jackson Lee, Sheila - (D - TX)',\n",
       " 'Rep. Jackson, Ronny - (R - TX) Campaign',\n",
       " 'Rep. Jayapal, Pramila - (D - WA)',\n",
       " 'Rep. Johnson, Bill - (R - OH)',\n",
       " 'Rep. Johnson, Dusty - (R - SD)',\n",
       " 'Rep. Johnson, Henry C. \"Hank,\" Jr. - (D - GA)',\n",
       " 'Rep. Johnson, Mike - (R - LA)',\n",
       " 'Rep. Jordan, Jim - (R - OH)',\n",
       " 'Rep. Kaptur, Marcy - (D - OH)',\n",
       " 'Rep. Kaptur, Marcy - (D - OH) 2016 Campaign',\n",
       " 'Rep. Kelly, Mike - (R - PA)',\n",
       " 'Rep. Kelly, Robin L. - (D - IL)',\n",
       " 'Rep. Khanna, Ro - (D - CA)',\n",
       " 'Rep. Khanna, Ro - (D - CA) Campaign',\n",
       " 'Rep. Kildee, Daniel T. - (D - MI)',\n",
       " 'Rep. Kilmer, Derek - (D - WA)',\n",
       " 'Rep. Kim, Andy - (D - NJ)',\n",
       " 'Rep. Kim, Young - (R - CA)',\n",
       " 'Rep. Krishnamoorthi, Raja - (D - IL)',\n",
       " 'Rep. Kuster, Ann M. - (D - NH)',\n",
       " 'Rep. LaHood, Darin - (R - IL)',\n",
       " 'Rep. LaMalfa, Doug - (R - CA)',\n",
       " 'Rep. Lamborn, Doug - (R - CO)',\n",
       " 'Rep. Larsen, Rick - (D - WA)',\n",
       " 'Rep. Larsen, Rick - (D - WA) Campaign',\n",
       " 'Rep. Larson, John B. - (D - CT)',\n",
       " 'Rep. Latta, Robert E. - (R - OH)',\n",
       " 'Rep. Lee, Barbara - (D - CA)',\n",
       " 'Rep. Lee, Susie - (D - NV)',\n",
       " 'Rep. Lieu, Ted - (D - CA)',\n",
       " 'Rep. Lieu, Ted - (D - CA) Campaign',\n",
       " 'Rep. Lipinski, Daniel - (D - IL) 2016 Campaign',\n",
       " 'Rep. Lofgren, Zoe - (D - CA)',\n",
       " 'Rep. Loudermilk, Barry - (R - GA)',\n",
       " 'Rep. Lucas, Frank D. - (R - OK)',\n",
       " 'Rep. Lynch, Stephen F. - (D - MA)',\n",
       " 'Rep. Malinowski, Tom - (D - NJ) Campaign',\n",
       " 'Rep. Mann, Tracey - (R - KS)',\n",
       " 'Rep. Massie, Thomas - (R - KY)',\n",
       " 'Rep. Mast, Brian J. - (R - FL)',\n",
       " 'Rep. Matsui, Doris O. - (D - CA)',\n",
       " 'Rep. McCarthy, Kevin - (R - CA)',\n",
       " 'Rep. McCaul, Michael T. - (R - TX)',\n",
       " 'Rep. McCollum, Betty - (D - MN)',\n",
       " 'Rep. McGovern, James P. - (D - MA)',\n",
       " 'Rep. McHenry, Patrick T. - (R - NC)',\n",
       " 'Rep. McMorris Rodgers, Cathy - (R - WA)',\n",
       " 'Rep. Meeks, Gregory W. - (D - NY)',\n",
       " 'Rep. Meuser, Daniel - (R - PA) Campaign',\n",
       " 'Rep. Miller, Carol D. - (R - WV)',\n",
       " 'Rep. Miller-Meeks, Mariannette - (R - IA)',\n",
       " 'Rep. Moolenaar, John R. - (R - MI)',\n",
       " 'Rep. Moore, Gwen - (D - WI)',\n",
       " 'Rep. Moulton, Seth - (D - MA)',\n",
       " 'Rep. Mrvan, Frank J. - (D - IN)',\n",
       " 'Rep. Nadler, Jerrold - (D - NY)',\n",
       " 'Rep. Napolitano, Grace F. - (D - CA)',\n",
       " 'Rep. Neal, Richard E. - (D - MA)',\n",
       " 'Rep. Neguse, Joe - (D - CO)',\n",
       " 'Rep. Newhouse, Dan - (R - WA)',\n",
       " 'Rep. Newhouse, Dan - (R - WA) 2016 Campaign',\n",
       " 'Rep. Nunes, Devin - (R - CA) 2020 Campaign',\n",
       " 'Rep. Omar, Ilhan - (D - MN)',\n",
       " 'Rep. Omar, Ilhan - (D - MN) Campaign',\n",
       " 'Rep. Owens, Burgess - (R - UT)',\n",
       " 'Rep. Pallone, Frank, Jr. - (D - NJ)',\n",
       " 'Rep. Palmer, Gary J. - (R - AL)',\n",
       " 'Rep. Panetta, Jimmy - (D - CA)',\n",
       " 'Rep. Pappas, Chris - (D - NH)',\n",
       " 'Rep. Pascrell, Bill, Jr. - (D - NJ)',\n",
       " 'Rep. Pascrell, Bill, Jr. - (D - NJ) Campaign',\n",
       " 'Rep. Payne, Donald M., Jr. - (D - NJ)',\n",
       " 'Rep. Pelosi, Nancy - (D - CA)',\n",
       " 'Rep. Perry, Scott - (R - PA)',\n",
       " 'Rep. Peters, Scott H. - (D - CA)',\n",
       " 'Rep. Pingree, Chellie - (D - ME)',\n",
       " 'Rep. Plaskett, Stacey E. - (D - VI)',\n",
       " 'Rep. Pocan, Mark - (D - WI)',\n",
       " 'Rep. Posey, Bill - (R - FL)',\n",
       " 'Rep. Pressley, Ayanna - (D - MA)',\n",
       " 'Rep. Quigley, Mike - (D - IL)',\n",
       " 'Rep. Reichert, David G. - (R - WA) 2016 Campaign',\n",
       " 'Rep. Reschenthaler, Guy - (R - PA)',\n",
       " 'Rep. Rogers, Harold - (R - KY)',\n",
       " 'Rep. Rogers, Mike D. - (R - AL)',\n",
       " 'Rep. Rosendale Sr., Matthew M. - (R - MT)',\n",
       " 'Rep. Rouzer, David - (R - NC)',\n",
       " 'Rep. Ruppersberger, C. A. Dutch - (D - MD)',\n",
       " 'Rep. Sablan, Gregorio Kilili Camacho - (D - MP)',\n",
       " 'Rep. Salazar, Maria Elvira - (R - FL)',\n",
       " 'Rep. Sanchez, Linda T. - (D - CA)',\n",
       " 'Rep. Sarbanes, John P. - (D - MD)',\n",
       " 'Rep. Scalise, Steve - (R - LA)',\n",
       " 'Rep. Scanlon, Mary Gay - (D - PA)',\n",
       " 'Rep. Schakowsky, Janice D. - (D - IL)',\n",
       " 'Rep. Schiff, Adam B. - (D - CA)',\n",
       " 'Rep. Schiff, Adam B. - (D - CA) Campaign',\n",
       " 'Rep. Schrier, Kim - (D - WA)',\n",
       " 'Rep. Schweikert, David - (R - AZ)',\n",
       " 'Rep. Scott, Austin - (R - GA)',\n",
       " 'Rep. Scott, David - (D - GA)',\n",
       " 'Rep. Sewell, Terri A. - (D - AL)',\n",
       " 'Rep. Sherman, Brad - (D - CA)',\n",
       " 'Rep. Simpson, Michael K. - (R - ID)',\n",
       " 'Rep. Simpson, Michael K. - (R - ID) 2020 Campaign',\n",
       " 'Rep. Slotkin, Elissa - (D - MI)',\n",
       " 'Rep. Smith, Adam - (D - WA)',\n",
       " 'Rep. Smith, Adrian - (R - NE)',\n",
       " 'Rep. Smith, Christopher H. - (R - NJ)',\n",
       " 'Rep. Smith, Jason - (R - MO)',\n",
       " 'Rep. Stauber, Pete - (R - MN)',\n",
       " 'Rep. Steel, Michelle - (R - CA)',\n",
       " 'Rep. Stefanik, Elise M. - (R - NY)',\n",
       " 'Rep. Swalwell, Eric - (D - CA)',\n",
       " 'Rep. Thompson, Glenn - (R - PA)',\n",
       " 'Rep. Thompson, Mike - (D - CA)',\n",
       " 'Rep. Thompson, Mike - (D - CA) 2020 Campaign',\n",
       " 'Rep. Tiffany, Thomas P. - (R - WI)',\n",
       " 'Rep. Trone, David J. - (D - MD)',\n",
       " 'Rep. Turner, Michael R. - (R - OH)',\n",
       " 'Rep. Velazquez, Nydia M. - (D - NY)',\n",
       " 'Rep. Visclosky, Peter J. - (D - IN) 2016 Campaign',\n",
       " 'Rep. Wagner, Ann - (R - MO)',\n",
       " 'Rep. Wagner, Ann - (R - MO) Campaign',\n",
       " 'Rep. Walberg, Tim - (R - MI)',\n",
       " 'Rep. Waltz, Michael - (R - FL)',\n",
       " 'Rep. Waltz, Michael - (R - FL) Campaign',\n",
       " 'Rep. Wasserman Schultz, Debbie - (D - FL)',\n",
       " 'Rep. Waters, Maxine - (D - CA)',\n",
       " 'Rep. Webster, Daniel - (R - FL)',\n",
       " 'Rep. Wenstrup, Brad R. - (R - OH)',\n",
       " 'Rep. Westerman, Bruce - (R - AR)',\n",
       " 'Rep. Wilson, Joe - (R - SC)',\n",
       " 'Rep. Womack, Steve - (R - AR)',\n",
       " 'Rep. Zinke, Ryan K. - (R - MT)',\n",
       " 'Senate Caucus on International Narcotics Control',\n",
       " 'Senate Cmte. on Agriculture, Nutrition & Forestry',\n",
       " 'Senate Cmte. on Appropriations',\n",
       " 'Senate Cmte. on Armed Services',\n",
       " 'Senate Cmte. on Banking, Housing, and Urban Affairs',\n",
       " 'Senate Cmte. on Commerce, Science, and Transportation',\n",
       " 'Senate Cmte. on Energy and Natural Resources',\n",
       " 'Senate Cmte. on Environment and Public Works',\n",
       " 'Senate Cmte. on Finance',\n",
       " 'Senate Cmte. on Foreign Relations',\n",
       " 'Senate Cmte. on Health, Education, Labor and Pensions',\n",
       " 'Senate Cmte. on Homeland Security & Governmental Affairs',\n",
       " 'Senate Cmte. on Indian Affairs',\n",
       " 'Senate Cmte. on Small Business and Entrepreneurship',\n",
       " \"Senate Cmte. on Veterans' Affairs\",\n",
       " 'Senate Cmte. on the Budget',\n",
       " 'Senate Cmte. on the Judiciary',\n",
       " 'Senate Committee on Agriculture, Nutrition, and Forestry',\n",
       " 'Senate Democratic Caucus',\n",
       " 'Senate Democratic Policy and Communications Cmte. (DPCC)',\n",
       " 'Senate Republican Leader - Mitch McConnell - (R - KY)',\n",
       " 'Senate Republican Policy Cmte. (RPC)',\n",
       " 'Senate Select Cmte. on Intelligence'}"
      ]
     },
     "execution_count": 26,
     "metadata": {},
     "output_type": "execute_result"
    }
   ],
   "source": [
    "set(VoxGov_post['source'])"
   ]
  },
  {
   "cell_type": "code",
   "execution_count": 38,
   "metadata": {},
   "outputs": [
    {
     "name": "stdout",
     "output_type": "stream",
     "text": [
      "result/VoxGov_sentiment_1.json\n",
      "result/VoxGov_sentiment_5.json\n",
      "result/VoxGov_sentiment_4.json\n",
      "result/VoxGov_sentiment_3.json\n",
      "result/VoxGov_sentiment_2.json\n",
      "4484\n"
     ]
    }
   ],
   "source": [
    "VoxGov_sentiment_res = []\n",
    "\n",
    "for file in glob('result/*'):\n",
    "    with open(file, 'r') as f:\n",
    "        print(file)\n",
    "        data = json.load(f)\n",
    "        for i, post_id in enumerate(data, start=1):\n",
    "            if int(post_id) in post_ids:\n",
    "                VoxGov_sentiment_res.append([int(post_id), data[post_id]['label'], \n",
    "                                             data[post_id]['positive_score'], \n",
    "                                             data[post_id]['negative_score']])\n",
    "\n",
    "print(len(VoxGov_sentiment_res))"
   ]
  },
  {
   "cell_type": "code",
   "execution_count": 39,
   "metadata": {},
   "outputs": [],
   "source": [
    "VoxGov_sentiment_res = pd.DataFrame(VoxGov_sentiment_res, columns=['id', 'label', 'positive_score', 'negative_score'])"
   ]
  },
  {
   "cell_type": "code",
   "execution_count": 40,
   "metadata": {},
   "outputs": [],
   "source": [
    "VoxGov_post_sentiment_res = pd.merge(VoxGov_post, VoxGov_sentiment_res, on='id', how='left')"
   ]
  },
  {
   "cell_type": "code",
   "execution_count": 41,
   "metadata": {},
   "outputs": [
    {
     "data": {
      "text/html": [
       "<div>\n",
       "<style scoped>\n",
       "    .dataframe tbody tr th:only-of-type {\n",
       "        vertical-align: middle;\n",
       "    }\n",
       "\n",
       "    .dataframe tbody tr th {\n",
       "        vertical-align: top;\n",
       "    }\n",
       "\n",
       "    .dataframe thead th {\n",
       "        text-align: right;\n",
       "    }\n",
       "</style>\n",
       "<table border=\"1\" class=\"dataframe\">\n",
       "  <thead>\n",
       "    <tr style=\"text-align: right;\">\n",
       "      <th></th>\n",
       "      <th>id</th>\n",
       "      <th>source_category</th>\n",
       "      <th>source</th>\n",
       "      <th>sourceType</th>\n",
       "      <th>title</th>\n",
       "      <th>text</th>\n",
       "      <th>url</th>\n",
       "      <th>date</th>\n",
       "      <th>organizations</th>\n",
       "      <th>places</th>\n",
       "      <th>label</th>\n",
       "      <th>positive_score</th>\n",
       "      <th>negative_score</th>\n",
       "    </tr>\n",
       "  </thead>\n",
       "  <tbody>\n",
       "    <tr>\n",
       "      <th>0</th>\n",
       "      <td>232165352</td>\n",
       "      <td>rep</td>\n",
       "      <td>Rep. Blumenauer, Earl - (D - OR)</td>\n",
       "      <td>House</td>\n",
       "      <td>Reps. Blumenauer, DeLauro, Doggett, and Schako...</td>\n",
       "      <td>Reps. Blumenauer, DeLauro, Doggett, and Schako...</td>\n",
       "      <td>https://blumenauer.house.gov/media-center/pres...</td>\n",
       "      <td>2022-10-05T23:45:24Z</td>\n",
       "      <td>[]</td>\n",
       "      <td>[United States]</td>\n",
       "      <td>NEGATIVE</td>\n",
       "      <td>0.166214</td>\n",
       "      <td>0.833786</td>\n",
       "    </tr>\n",
       "    <tr>\n",
       "      <th>1</th>\n",
       "      <td>232178416</td>\n",
       "      <td>rep</td>\n",
       "      <td>Rep. Schakowsky, Janice D. - (D - IL)</td>\n",
       "      <td>House</td>\n",
       "      <td>Schakowsky, Blumenauer, DeLauro, and Doggett U...</td>\n",
       "      <td>Schakowsky, Blumenauer, DeLauro, and Doggett U...</td>\n",
       "      <td>https://schakowsky.house.gov/media/press-relea...</td>\n",
       "      <td>2022-10-06T16:13:37Z</td>\n",
       "      <td>[]</td>\n",
       "      <td>[United States]</td>\n",
       "      <td>NEGATIVE</td>\n",
       "      <td>0.163094</td>\n",
       "      <td>0.836906</td>\n",
       "    </tr>\n",
       "    <tr>\n",
       "      <th>2</th>\n",
       "      <td>232245475</td>\n",
       "      <td>rep</td>\n",
       "      <td>Rep. Evans, Dwight - (D - PA)</td>\n",
       "      <td>House</td>\n",
       "      <td>RT @NOIweala: Great meeting with USA Congressi...</td>\n",
       "      <td>RT @NOIweala: Great meeting with USA Congressi...</td>\n",
       "      <td>https://twitter.com/RepDwightEvans/status/1578...</td>\n",
       "      <td>2022-10-07T13:34:13Z</td>\n",
       "      <td>[]</td>\n",
       "      <td>[]</td>\n",
       "      <td>POSITIVE</td>\n",
       "      <td>0.999154</td>\n",
       "      <td>0.000846</td>\n",
       "    </tr>\n",
       "    <tr>\n",
       "      <th>3</th>\n",
       "      <td>232292586</td>\n",
       "      <td>rep</td>\n",
       "      <td>Rep. Plaskett, Stacey E. - (D - VI)</td>\n",
       "      <td>House</td>\n",
       "      <td>RT @NOIweala: Great meeting with USA Congressi...</td>\n",
       "      <td>RT @NOIweala: Great meeting with USA Congressi...</td>\n",
       "      <td>https://twitter.com/StaceyPlaskett/status/1578...</td>\n",
       "      <td>2022-10-08T19:08:06Z</td>\n",
       "      <td>[]</td>\n",
       "      <td>[]</td>\n",
       "      <td>POSITIVE</td>\n",
       "      <td>0.999154</td>\n",
       "      <td>0.000846</td>\n",
       "    </tr>\n",
       "    <tr>\n",
       "      <th>4</th>\n",
       "      <td>232683612</td>\n",
       "      <td>rep</td>\n",
       "      <td>Rep. Castro, Joaquin - (D - TX)</td>\n",
       "      <td>House</td>\n",
       "      <td>RT @TedHope: Peter Bart: \"… consumers of pop c...</td>\n",
       "      <td>RT @TedHope: Peter Bart: “… consumers of pop c...</td>\n",
       "      <td>https://twitter.com/JoaquinCastrotx/status/158...</td>\n",
       "      <td>2022-10-21T13:36:06Z</td>\n",
       "      <td>[]</td>\n",
       "      <td>[]</td>\n",
       "      <td>NEGATIVE</td>\n",
       "      <td>0.000708</td>\n",
       "      <td>0.999292</td>\n",
       "    </tr>\n",
       "  </tbody>\n",
       "</table>\n",
       "</div>"
      ],
      "text/plain": [
       "          id source_category                                 source  \\\n",
       "0  232165352             rep       Rep. Blumenauer, Earl - (D - OR)   \n",
       "1  232178416             rep  Rep. Schakowsky, Janice D. - (D - IL)   \n",
       "2  232245475             rep          Rep. Evans, Dwight - (D - PA)   \n",
       "3  232292586             rep    Rep. Plaskett, Stacey E. - (D - VI)   \n",
       "4  232683612             rep        Rep. Castro, Joaquin - (D - TX)   \n",
       "\n",
       "  sourceType                                              title  \\\n",
       "0      House  Reps. Blumenauer, DeLauro, Doggett, and Schako...   \n",
       "1      House  Schakowsky, Blumenauer, DeLauro, and Doggett U...   \n",
       "2      House  RT @NOIweala: Great meeting with USA Congressi...   \n",
       "3      House  RT @NOIweala: Great meeting with USA Congressi...   \n",
       "4      House  RT @TedHope: Peter Bart: \"… consumers of pop c...   \n",
       "\n",
       "                                                text  \\\n",
       "0  Reps. Blumenauer, DeLauro, Doggett, and Schako...   \n",
       "1  Schakowsky, Blumenauer, DeLauro, and Doggett U...   \n",
       "2  RT @NOIweala: Great meeting with USA Congressi...   \n",
       "3  RT @NOIweala: Great meeting with USA Congressi...   \n",
       "4  RT @TedHope: Peter Bart: “… consumers of pop c...   \n",
       "\n",
       "                                                 url                  date  \\\n",
       "0  https://blumenauer.house.gov/media-center/pres...  2022-10-05T23:45:24Z   \n",
       "1  https://schakowsky.house.gov/media/press-relea...  2022-10-06T16:13:37Z   \n",
       "2  https://twitter.com/RepDwightEvans/status/1578...  2022-10-07T13:34:13Z   \n",
       "3  https://twitter.com/StaceyPlaskett/status/1578...  2022-10-08T19:08:06Z   \n",
       "4  https://twitter.com/JoaquinCastrotx/status/158...  2022-10-21T13:36:06Z   \n",
       "\n",
       "  organizations           places     label  positive_score  negative_score  \n",
       "0            []  [United States]  NEGATIVE        0.166214        0.833786  \n",
       "1            []  [United States]  NEGATIVE        0.163094        0.836906  \n",
       "2            []               []  POSITIVE        0.999154        0.000846  \n",
       "3            []               []  POSITIVE        0.999154        0.000846  \n",
       "4            []               []  NEGATIVE        0.000708        0.999292  "
      ]
     },
     "execution_count": 41,
     "metadata": {},
     "output_type": "execute_result"
    }
   ],
   "source": [
    "VoxGov_post_sentiment_res.head()"
   ]
  },
  {
   "cell_type": "code",
   "execution_count": 42,
   "metadata": {},
   "outputs": [],
   "source": [
    "VoxGov_post_sentiment_res.to_csv('VoxGov_post_sentiment_res_need.csv', index=False)"
   ]
  },
  {
   "cell_type": "code",
   "execution_count": 43,
   "metadata": {},
   "outputs": [
    {
     "data": {
      "text/html": [
       "<div>\n",
       "<style scoped>\n",
       "    .dataframe tbody tr th:only-of-type {\n",
       "        vertical-align: middle;\n",
       "    }\n",
       "\n",
       "    .dataframe tbody tr th {\n",
       "        vertical-align: top;\n",
       "    }\n",
       "\n",
       "    .dataframe thead th {\n",
       "        text-align: right;\n",
       "    }\n",
       "</style>\n",
       "<table border=\"1\" class=\"dataframe\">\n",
       "  <thead>\n",
       "    <tr style=\"text-align: right;\">\n",
       "      <th></th>\n",
       "      <th>source_category</th>\n",
       "      <th>label</th>\n",
       "      <th>size</th>\n",
       "    </tr>\n",
       "  </thead>\n",
       "  <tbody>\n",
       "    <tr>\n",
       "      <th>0</th>\n",
       "      <td>rep</td>\n",
       "      <td>NEGATIVE</td>\n",
       "      <td>630</td>\n",
       "    </tr>\n",
       "    <tr>\n",
       "      <th>1</th>\n",
       "      <td>rep</td>\n",
       "      <td>POSITIVE</td>\n",
       "      <td>735</td>\n",
       "    </tr>\n",
       "    <tr>\n",
       "      <th>2</th>\n",
       "      <td>sen</td>\n",
       "      <td>NEGATIVE</td>\n",
       "      <td>2040</td>\n",
       "    </tr>\n",
       "    <tr>\n",
       "      <th>3</th>\n",
       "      <td>sen</td>\n",
       "      <td>POSITIVE</td>\n",
       "      <td>1079</td>\n",
       "    </tr>\n",
       "  </tbody>\n",
       "</table>\n",
       "</div>"
      ],
      "text/plain": [
       "  source_category     label  size\n",
       "0             rep  NEGATIVE   630\n",
       "1             rep  POSITIVE   735\n",
       "2             sen  NEGATIVE  2040\n",
       "3             sen  POSITIVE  1079"
      ]
     },
     "execution_count": 43,
     "metadata": {},
     "output_type": "execute_result"
    }
   ],
   "source": [
    "VoxGov_post_sentiment_res[['source_category', 'label']].groupby(['source_category', 'label'], as_index=False).size()"
   ]
  },
  {
   "cell_type": "code",
   "execution_count": 83,
   "metadata": {},
   "outputs": [],
   "source": [
    "# wrong datetime\n",
    "VoxGov_post_sentiment_res = VoxGov_post_sentiment_res.drop(VoxGov_post_sentiment_res[VoxGov_post_sentiment_res['id']==154804081].index[0])"
   ]
  },
  {
   "cell_type": "code",
   "execution_count": 84,
   "metadata": {},
   "outputs": [
    {
     "name": "stdout",
     "output_type": "stream",
     "text": [
      "rep\n"
     ]
    },
    {
     "name": "stderr",
     "output_type": "stream",
     "text": [
      "/var/folders/6v/7554hy7n5zg4dv7nymqqshmm0000gn/T/ipykernel_32272/2676753447.py:6: SettingWithCopyWarning: \n",
      "A value is trying to be set on a copy of a slice from a DataFrame.\n",
      "Try using .loc[row_indexer,col_indexer] = value instead\n",
      "\n",
      "See the caveats in the documentation: https://pandas.pydata.org/pandas-docs/stable/user_guide/indexing.html#returning-a-view-versus-a-copy\n",
      "  v_res['year'] = year\n"
     ]
    },
    {
     "data": {
      "image/png": "[encoded data removed]",
      "text/plain": [
       "<Figure size 1200x800 with 1 Axes>"
      ]
     },
     "metadata": {},
     "output_type": "display_data"
    },
    {
     "name": "stdout",
     "output_type": "stream",
     "text": [
      "sen\n"
     ]
    },
    {
     "name": "stderr",
     "output_type": "stream",
     "text": [
      "/var/folders/6v/7554hy7n5zg4dv7nymqqshmm0000gn/T/ipykernel_32272/2676753447.py:6: SettingWithCopyWarning: \n",
      "A value is trying to be set on a copy of a slice from a DataFrame.\n",
      "Try using .loc[row_indexer,col_indexer] = value instead\n",
      "\n",
      "See the caveats in the documentation: https://pandas.pydata.org/pandas-docs/stable/user_guide/indexing.html#returning-a-view-versus-a-copy\n",
      "  v_res['year'] = year\n"
     ]
    },
    {
     "data": {
      "image/png": "[encoded data removed]",
      "text/plain": [
       "<Figure size 1200x800 with 1 Axes>"
      ]
     },
     "metadata": {},
     "output_type": "display_data"
    }
   ],
   "source": [
    "for sc in ['rep', 'sen']:\n",
    "    print(sc)\n",
    "    v_res = VoxGov_post_sentiment_res[VoxGov_post_sentiment_res['source_category'] == sc]\n",
    "    # v_res['year'] = pd.to_datetime(v_res['date']).dt.year\n",
    "    year = np.array([date.split('-')[0] for date in v_res['date']])\n",
    "    v_res['year'] = year\n",
    "    grouped_by_year = v_res.groupby(['year', 'label']).size().reset_index(name='count')\n",
    "    grouped_by_year = grouped_by_year.sort_values(by='year')\n",
    "\n",
    "    # Set the plot style\n",
    "    sns.set_theme(style=\"darkgrid\")\n",
    "\n",
    "    # Set the figure size\n",
    "    plt.figure(figsize=(12, 8))\n",
    "\n",
    "    # Create a grouped barplot\n",
    "    sns.barplot(x=\"year\", y=\"count\", hue=\"label\", data=grouped_by_year)\n",
    "\n",
    "    # Set the title and labels\n",
    "    plt.title(f'Sentiment of {sc.upper()} Over Time by Year')\n",
    "    plt.xlabel('Year')\n",
    "    plt.ylabel('Count')\n",
    "    plt.xticks(rotation=45)\n",
    "\n",
    "    # Show the plot\n",
    "    plt.show()"
   ]
  },
  {
   "cell_type": "markdown",
   "metadata": {},
   "source": [
    "# mention WTO"
   ]
  },
  {
   "cell_type": "code",
   "execution_count": 152,
   "metadata": {},
   "outputs": [
    {
     "name": "stdout",
     "output_type": "stream",
     "text": [
      "57888\n",
      "72563\n"
     ]
    }
   ],
   "source": [
    "VoxGov_post = []\n",
    "all_cnt = 0\n",
    "\n",
    "with open('VoxGov.jsonl', 'r') as file:\n",
    "    for i, line in enumerate(file, start=1):\n",
    "        data = json.loads(line.strip())\n",
    "        all_cnt += 1\n",
    "        try:\n",
    "            if 'world trade organization' in data['text'].lower() or 'wto' in data['text'].lower():\n",
    "                VoxGov_post.append([data['id'], data['source'], data['sourceType'], data['title'], data['text'], data['url'], data['date'], \n",
    "                                    data['organizations'], data['places']])\n",
    "        except:\n",
    "            continue\n",
    "\n",
    "print(len(VoxGov_post))\n",
    "print(all_cnt)"
   ]
  },
  {
   "cell_type": "code",
   "execution_count": 153,
   "metadata": {},
   "outputs": [],
   "source": [
    "VoxGov_post = pd.DataFrame(VoxGov_post, columns=['id', 'source', 'sourceType', 'title', 'text', 'url', 'date', 'organizations', 'places'])\n",
    "post_ids = VoxGov_post['id'].tolist()"
   ]
  },
  {
   "cell_type": "code",
   "execution_count": 154,
   "metadata": {},
   "outputs": [
    {
     "name": "stdout",
     "output_type": "stream",
     "text": [
      "result/VoxGov_sentiment_1.json\n",
      "result/VoxGov_sentiment_5.json\n",
      "result/VoxGov_sentiment_4.json\n",
      "result/VoxGov_sentiment_3.json\n",
      "result/VoxGov_sentiment_2.json\n",
      "57888\n"
     ]
    }
   ],
   "source": [
    "VoxGov_sentiment_res = []\n",
    "\n",
    "for file in glob('result/*'):\n",
    "    with open(file, 'r') as f:\n",
    "        print(file)\n",
    "        data = json.load(f)\n",
    "        for i, post_id in enumerate(data, start=1):\n",
    "            if int(post_id) in post_ids:\n",
    "                VoxGov_sentiment_res.append([int(post_id), data[post_id]['label'], \n",
    "                                             data[post_id]['positive_score'], \n",
    "                                             data[post_id]['negative_score']])\n",
    "\n",
    "print(len(VoxGov_sentiment_res))"
   ]
  },
  {
   "cell_type": "code",
   "execution_count": 155,
   "metadata": {},
   "outputs": [],
   "source": [
    "VoxGov_sentiment_res = pd.DataFrame(VoxGov_sentiment_res, columns=['id', 'label', 'positive_score', 'negative_score'])\n",
    "VoxGov_post_sentiment_res = pd.merge(VoxGov_post, VoxGov_sentiment_res, on='id', how='left')"
   ]
  },
  {
   "cell_type": "code",
   "execution_count": 156,
   "metadata": {},
   "outputs": [],
   "source": [
    "VoxGov_post_sentiment_res.to_csv('VoxGov_post_sentiment_res_wto.csv', index=False)"
   ]
  },
  {
   "cell_type": "code",
   "execution_count": 157,
   "metadata": {},
   "outputs": [
    {
     "data": {
      "text/plain": [
       "NEGATIVE    35114\n",
       "POSITIVE    22774\n",
       "Name: label, dtype: int64"
      ]
     },
     "execution_count": 157,
     "metadata": {},
     "output_type": "execute_result"
    }
   ],
   "source": [
    "VoxGov_post_sentiment_res['label'].value_counts()"
   ]
  },
  {
   "cell_type": "code",
   "execution_count": 162,
   "metadata": {},
   "outputs": [
    {
     "data": {
      "text/plain": [
       "0"
      ]
     },
     "execution_count": 162,
     "metadata": {},
     "output_type": "execute_result"
    }
   ],
   "source": [
    "VoxGov_post_sentiment_res['date'].isnull().sum()"
   ]
  },
  {
   "cell_type": "code",
   "execution_count": 49,
   "metadata": {},
   "outputs": [
    {
     "ename": "AttributeError",
     "evalue": "'str' object has no attribute 'dt'",
     "output_type": "error",
     "traceback": [
      "\u001b[0;31m---------------------------------------------------------------------------\u001b[0m",
      "\u001b[0;31mAttributeError\u001b[0m                            Traceback (most recent call last)",
      "Cell \u001b[0;32mIn[49], line 2\u001b[0m\n\u001b[1;32m      1\u001b[0m \u001b[38;5;28;01mfor\u001b[39;00m date \u001b[38;5;129;01min\u001b[39;00m VoxGov_post_sentiment_res[\u001b[38;5;124m'\u001b[39m\u001b[38;5;124mdate\u001b[39m\u001b[38;5;124m'\u001b[39m]:\n\u001b[0;32m----> 2\u001b[0m     \u001b[38;5;28mprint\u001b[39m(\u001b[43mdate\u001b[49m\u001b[38;5;241;43m.\u001b[39;49m\u001b[43mdt\u001b[49m\u001b[38;5;241m.\u001b[39myear)\n",
      "\u001b[0;31mAttributeError\u001b[0m: 'str' object has no attribute 'dt'"
     ]
    }
   ],
   "source": [
    "for date in VoxGov_post_sentiment_res['date']:\n",
    "    print(date.dt.year)"
   ]
  },
  {
   "cell_type": "code",
   "execution_count": 45,
   "metadata": {},
   "outputs": [
    {
     "ename": "AttributeError",
     "evalue": "Can only use .dt accessor with datetimelike values",
     "output_type": "error",
     "traceback": [
      "\u001b[0;31m---------------------------------------------------------------------------\u001b[0m",
      "\u001b[0;31mAttributeError\u001b[0m                            Traceback (most recent call last)",
      "Cell \u001b[0;32mIn[45], line 2\u001b[0m\n\u001b[1;32m      1\u001b[0m \u001b[38;5;66;03m# Convert the 'date' column to year\u001b[39;00m\n\u001b[0;32m----> 2\u001b[0m VoxGov_post_sentiment_res[\u001b[38;5;124m'\u001b[39m\u001b[38;5;124myear\u001b[39m\u001b[38;5;124m'\u001b[39m] \u001b[38;5;241m=\u001b[39m \u001b[43mVoxGov_post_sentiment_res\u001b[49m\u001b[43m[\u001b[49m\u001b[38;5;124;43m'\u001b[39;49m\u001b[38;5;124;43mdate\u001b[39;49m\u001b[38;5;124;43m'\u001b[39;49m\u001b[43m]\u001b[49m\u001b[38;5;241;43m.\u001b[39;49m\u001b[43mdt\u001b[49m\u001b[38;5;241m.\u001b[39myear\n\u001b[1;32m      4\u001b[0m \u001b[38;5;66;03m# Group by year and label, then count occurrences\u001b[39;00m\n\u001b[1;32m      5\u001b[0m grouped_by_year \u001b[38;5;241m=\u001b[39m VoxGov_post_sentiment_res\u001b[38;5;241m.\u001b[39mgroupby([\u001b[38;5;124m'\u001b[39m\u001b[38;5;124myear\u001b[39m\u001b[38;5;124m'\u001b[39m, \u001b[38;5;124m'\u001b[39m\u001b[38;5;124mlabel\u001b[39m\u001b[38;5;124m'\u001b[39m])\u001b[38;5;241m.\u001b[39msize()\u001b[38;5;241m.\u001b[39mreset_index(name\u001b[38;5;241m=\u001b[39m\u001b[38;5;124m'\u001b[39m\u001b[38;5;124mcount\u001b[39m\u001b[38;5;124m'\u001b[39m)\n",
      "File \u001b[0;32m~/opt/anaconda3/envs/python39/lib/python3.9/site-packages/pandas/core/generic.py:5902\u001b[0m, in \u001b[0;36mNDFrame.__getattr__\u001b[0;34m(self, name)\u001b[0m\n\u001b[1;32m   5895\u001b[0m \u001b[38;5;28;01mif\u001b[39;00m (\n\u001b[1;32m   5896\u001b[0m     name \u001b[38;5;129;01mnot\u001b[39;00m \u001b[38;5;129;01min\u001b[39;00m \u001b[38;5;28mself\u001b[39m\u001b[38;5;241m.\u001b[39m_internal_names_set\n\u001b[1;32m   5897\u001b[0m     \u001b[38;5;129;01mand\u001b[39;00m name \u001b[38;5;129;01mnot\u001b[39;00m \u001b[38;5;129;01min\u001b[39;00m \u001b[38;5;28mself\u001b[39m\u001b[38;5;241m.\u001b[39m_metadata\n\u001b[1;32m   5898\u001b[0m     \u001b[38;5;129;01mand\u001b[39;00m name \u001b[38;5;129;01mnot\u001b[39;00m \u001b[38;5;129;01min\u001b[39;00m \u001b[38;5;28mself\u001b[39m\u001b[38;5;241m.\u001b[39m_accessors\n\u001b[1;32m   5899\u001b[0m     \u001b[38;5;129;01mand\u001b[39;00m \u001b[38;5;28mself\u001b[39m\u001b[38;5;241m.\u001b[39m_info_axis\u001b[38;5;241m.\u001b[39m_can_hold_identifiers_and_holds_name(name)\n\u001b[1;32m   5900\u001b[0m ):\n\u001b[1;32m   5901\u001b[0m     \u001b[38;5;28;01mreturn\u001b[39;00m \u001b[38;5;28mself\u001b[39m[name]\n\u001b[0;32m-> 5902\u001b[0m \u001b[38;5;28;01mreturn\u001b[39;00m \u001b[38;5;28;43mobject\u001b[39;49m\u001b[38;5;241;43m.\u001b[39;49m\u001b[38;5;21;43m__getattribute__\u001b[39;49m\u001b[43m(\u001b[49m\u001b[38;5;28;43mself\u001b[39;49m\u001b[43m,\u001b[49m\u001b[43m \u001b[49m\u001b[43mname\u001b[49m\u001b[43m)\u001b[49m\n",
      "File \u001b[0;32m~/opt/anaconda3/envs/python39/lib/python3.9/site-packages/pandas/core/accessor.py:182\u001b[0m, in \u001b[0;36mCachedAccessor.__get__\u001b[0;34m(self, obj, cls)\u001b[0m\n\u001b[1;32m    179\u001b[0m \u001b[38;5;28;01mif\u001b[39;00m obj \u001b[38;5;129;01mis\u001b[39;00m \u001b[38;5;28;01mNone\u001b[39;00m:\n\u001b[1;32m    180\u001b[0m     \u001b[38;5;66;03m# we're accessing the attribute of the class, i.e., Dataset.geo\u001b[39;00m\n\u001b[1;32m    181\u001b[0m     \u001b[38;5;28;01mreturn\u001b[39;00m \u001b[38;5;28mself\u001b[39m\u001b[38;5;241m.\u001b[39m_accessor\n\u001b[0;32m--> 182\u001b[0m accessor_obj \u001b[38;5;241m=\u001b[39m \u001b[38;5;28;43mself\u001b[39;49m\u001b[38;5;241;43m.\u001b[39;49m\u001b[43m_accessor\u001b[49m\u001b[43m(\u001b[49m\u001b[43mobj\u001b[49m\u001b[43m)\u001b[49m\n\u001b[1;32m    183\u001b[0m \u001b[38;5;66;03m# Replace the property with the accessor object. Inspired by:\u001b[39;00m\n\u001b[1;32m    184\u001b[0m \u001b[38;5;66;03m# https://www.pydanny.com/cached-property.html\u001b[39;00m\n\u001b[1;32m    185\u001b[0m \u001b[38;5;66;03m# We need to use object.__setattr__ because we overwrite __setattr__ on\u001b[39;00m\n\u001b[1;32m    186\u001b[0m \u001b[38;5;66;03m# NDFrame\u001b[39;00m\n\u001b[1;32m    187\u001b[0m \u001b[38;5;28mobject\u001b[39m\u001b[38;5;241m.\u001b[39m\u001b[38;5;21m__setattr__\u001b[39m(obj, \u001b[38;5;28mself\u001b[39m\u001b[38;5;241m.\u001b[39m_name, accessor_obj)\n",
      "File \u001b[0;32m~/opt/anaconda3/envs/python39/lib/python3.9/site-packages/pandas/core/indexes/accessors.py:512\u001b[0m, in \u001b[0;36mCombinedDatetimelikeProperties.__new__\u001b[0;34m(cls, data)\u001b[0m\n\u001b[1;32m    509\u001b[0m \u001b[38;5;28;01melif\u001b[39;00m is_period_dtype(data\u001b[38;5;241m.\u001b[39mdtype):\n\u001b[1;32m    510\u001b[0m     \u001b[38;5;28;01mreturn\u001b[39;00m PeriodProperties(data, orig)\n\u001b[0;32m--> 512\u001b[0m \u001b[38;5;28;01mraise\u001b[39;00m \u001b[38;5;167;01mAttributeError\u001b[39;00m(\u001b[38;5;124m\"\u001b[39m\u001b[38;5;124mCan only use .dt accessor with datetimelike values\u001b[39m\u001b[38;5;124m\"\u001b[39m)\n",
      "\u001b[0;31mAttributeError\u001b[0m: Can only use .dt accessor with datetimelike values"
     ]
    }
   ],
   "source": [
    "# Convert the 'date' column to year\n",
    "VoxGov_post_sentiment_res['year'] = VoxGov_post_sentiment_res['date'].dt.year\n",
    "\n",
    "# Group by year and label, then count occurrences\n",
    "grouped_by_year = VoxGov_post_sentiment_res.groupby(['year', 'label']).size().reset_index(name='count')\n",
    "\n",
    "# Sort by year\n",
    "grouped_by_year = grouped_by_year.sort_values(by='year')\n",
    "\n",
    "# Set the plot style\n",
    "sns.set_theme(style=\"darkgrid\")\n",
    "\n",
    "# Set the figure size\n",
    "plt.figure(figsize=(12, 8))\n",
    "\n",
    "# Create a grouped barplot\n",
    "sns.barplot(x=\"year\", y=\"count\", hue=\"label\", data=grouped_by_year)\n",
    "\n",
    "# Set the title and labels\n",
    "plt.title('Sentiment Over Time by Year')\n",
    "plt.xlabel('Year')\n",
    "plt.ylabel('Count')\n",
    "plt.xticks(rotation=45)\n",
    "\n",
    "# Show the plot\n",
    "plt.show()\n"
   ]
  },
  {
   "cell_type": "code",
   "execution_count": 115,
   "metadata": {},
   "outputs": [],
   "source": [
    "grouped = VoxGov_post_sentiment_res.groupby(['date', 'label'], as_index=False).size()\n",
    "\n",
    "grouped = grouped.sort_values(by='date')"
   ]
  },
  {
   "cell_type": "code",
   "execution_count": 116,
   "metadata": {},
   "outputs": [
    {
     "data": {
      "text/html": [
       "<div>\n",
       "<style scoped>\n",
       "    .dataframe tbody tr th:only-of-type {\n",
       "        vertical-align: middle;\n",
       "    }\n",
       "\n",
       "    .dataframe tbody tr th {\n",
       "        vertical-align: top;\n",
       "    }\n",
       "\n",
       "    .dataframe thead th {\n",
       "        text-align: right;\n",
       "    }\n",
       "</style>\n",
       "<table border=\"1\" class=\"dataframe\">\n",
       "  <thead>\n",
       "    <tr style=\"text-align: right;\">\n",
       "      <th></th>\n",
       "      <th>date</th>\n",
       "      <th>label</th>\n",
       "      <th>size</th>\n",
       "    </tr>\n",
       "  </thead>\n",
       "  <tbody>\n",
       "    <tr>\n",
       "      <th>0</th>\n",
       "      <td>1994-05-16</td>\n",
       "      <td>POSITIVE</td>\n",
       "      <td>1</td>\n",
       "    </tr>\n",
       "    <tr>\n",
       "      <th>1</th>\n",
       "      <td>1994-12-23</td>\n",
       "      <td>NEGATIVE</td>\n",
       "      <td>1</td>\n",
       "    </tr>\n",
       "    <tr>\n",
       "      <th>2</th>\n",
       "      <td>1995-01-04</td>\n",
       "      <td>NEGATIVE</td>\n",
       "      <td>1</td>\n",
       "    </tr>\n",
       "    <tr>\n",
       "      <th>3</th>\n",
       "      <td>1995-05-10</td>\n",
       "      <td>POSITIVE</td>\n",
       "      <td>1</td>\n",
       "    </tr>\n",
       "    <tr>\n",
       "      <th>4</th>\n",
       "      <td>1995-07-27</td>\n",
       "      <td>POSITIVE</td>\n",
       "      <td>1</td>\n",
       "    </tr>\n",
       "    <tr>\n",
       "      <th>...</th>\n",
       "      <td>...</td>\n",
       "      <td>...</td>\n",
       "      <td>...</td>\n",
       "    </tr>\n",
       "    <tr>\n",
       "      <th>344</th>\n",
       "      <td>2016-09-20</td>\n",
       "      <td>POSITIVE</td>\n",
       "      <td>1</td>\n",
       "    </tr>\n",
       "    <tr>\n",
       "      <th>345</th>\n",
       "      <td>2016-09-30</td>\n",
       "      <td>NEGATIVE</td>\n",
       "      <td>1</td>\n",
       "    </tr>\n",
       "    <tr>\n",
       "      <th>346</th>\n",
       "      <td>2016-10-18</td>\n",
       "      <td>NEGATIVE</td>\n",
       "      <td>1</td>\n",
       "    </tr>\n",
       "    <tr>\n",
       "      <th>347</th>\n",
       "      <td>2016-11-03</td>\n",
       "      <td>NEGATIVE</td>\n",
       "      <td>1</td>\n",
       "    </tr>\n",
       "    <tr>\n",
       "      <th>348</th>\n",
       "      <td>2016-11-08</td>\n",
       "      <td>NEGATIVE</td>\n",
       "      <td>1</td>\n",
       "    </tr>\n",
       "  </tbody>\n",
       "</table>\n",
       "<p>349 rows × 3 columns</p>\n",
       "</div>"
      ],
      "text/plain": [
       "          date     label  size\n",
       "0   1994-05-16  POSITIVE     1\n",
       "1   1994-12-23  NEGATIVE     1\n",
       "2   1995-01-04  NEGATIVE     1\n",
       "3   1995-05-10  POSITIVE     1\n",
       "4   1995-07-27  POSITIVE     1\n",
       "..         ...       ...   ...\n",
       "344 2016-09-20  POSITIVE     1\n",
       "345 2016-09-30  NEGATIVE     1\n",
       "346 2016-10-18  NEGATIVE     1\n",
       "347 2016-11-03  NEGATIVE     1\n",
       "348 2016-11-08  NEGATIVE     1\n",
       "\n",
       "[349 rows x 3 columns]"
      ]
     },
     "execution_count": 116,
     "metadata": {},
     "output_type": "execute_result"
    }
   ],
   "source": [
    "grouped"
   ]
  },
  {
   "cell_type": "code",
   "execution_count": 165,
   "metadata": {},
   "outputs": [
    {
     "name": "stdout",
     "output_type": "stream",
     "text": [
      "215456332\n",
      "https://www.congress.gov/bill/117th-congress/senate-bill/732\n",
      "BuyAmerican.gov Act of 2021   This bill directs the President and specified federal agencies to take steps to increase transparency and limit the use of waivers of Buy American laws. Generally, Buy American requires agencies to procure domestic goods.   The bill requires (1) the Department of Commerce to report periodically to Congress and the President on the implementation of, and compliance with, Buy American laws; (2) Commerce and the Office of the U.S. Trade Representative to assess the impacts of all U.S. free trade agreements and the World Trade Organization Agreement on Government Procurement on the operation of such laws; and (3) the General Services Administration (GSA) to establish a free, publicly available BuyAmerican.gov website. Public interest waivers from Buy American laws shall be construed to ensure the maximum utilization of goods, products, and materials produced in the United States.   The President shall develop a mechanism to collect information on requests to waive Buy American laws and other domestic content restrictions for purposes of providing early notice to possible waivers via the website. Executive agencies shall make information concerning the intention to issue a waiver or exception in connection with a federal procurement available to the GSA at least 20 days prior to waiving a Buy American law.   The Government Accountability Office shall report to Congress within two years of this bill's enactment describing the bill's implementation.  Sen. Portman, Rob [R-OH] (Introduced 03/11/2021) 12/05/2022 Placed on Senate Legislative Calendar under General Orders. Calendar No. 586. Senate - Homeland Security and Governmental Affairs Placed on Senate Legislative Calendar under General Orders. Calendar No. 586. Committee on Homeland Security and Governmental Affairs. Reported by Senator Peters with an amendment in the nature of a substitute. With written report No. 117-227. Committee on Homeland Security and Governmental Affairs. Ordered to be reported with an amendment in the nature of a substitute favorably. Read twice and referred to the Committee on Homeland Security and Governmental Affairs. Introduced in Senate Sen. Portman, Rob [R-OH] Sen. Murphy, Christopher [D-CT] Sen. Graham, Lindsey [R-SC] Sen. Brown, Sherrod [D-OH] Sen. Stabenow, Debbie [D-MI] Government Operations and Politics Accounting and auditing Buy American requirements Congressional oversight Free trade and trade barriers Government ethics and transparency, public corruption Government information and archives Government studies and investigations Manufacturing Public contracts and procurement Trade restrictions   Short Titles    Short Titles - Senate  Short Title(s) as Reported to Senate  BuyAmerican.gov Act of 2021  Short Title(s) as Introduced  BuyAmerican.gov Act of 2021      Official Titles    Official Titles - Senate  Official Title as Introduced  A bill to strengthen Buy American requirements, and for other purposes.     H.R.5395 BuyAmerican.gov Act of 2021 09/28/2021 Referred to the Subcommittee on Trade. [Congressional Bills 117th Congress] [From the U.S. Government Publishing Office] [S. 732 Reported in Senate (RS)]  <DOC>                                                             Calendar No. 586 117th CONGRESS   2d Session                                  S. 732                            [Report No. 117-227]      To strengthen Buy American requirements, and for other purposes.   _______________________________________________________________________                      IN THE SENATE OF THE UNITED STATES                               March 11, 2021   Mr. Portman (for himself, Mr. Murphy, Mr. Graham, Mr. Brown, and Ms.     Stabenow) introduced the following bill; which was read twice and  referred to the Committee on Homeland Security and Governmental Affairs                              December 5, 2022                 Reported by Mr. Peters, with an amendment  [Strike out all after the enacting clause and insert the part printed                                 in italic]  _______________________________________________________________________                                   A BILL         To strengthen Buy American requirements, and for other purposes.      Be it enacted by the Senate and House of Representatives of the  United States of America in Congress assembled,  <DELETED>SECTION 1. SHORT TITLE.</DELETED>  <DELETED>    This Act may be cited as the ``BuyAmerican.gov Act of  2021''.</DELETED>  <DELETED>SEC. 2. DEFINITIONS.</DELETED>  <DELETED>    In this Act:</DELETED>         <DELETED>    (1) Buy american law.--The term ``Buy American          law'' means any law, regulation, Executive order, or rule          relating to Federal contracts, grants, or financial assistance          that requires or provides a preference for the purchase or use          of goods, products, or materials mined, produced, or          manufactured in the United States, including--</DELETED>                 <DELETED>    (A) chapter 83 of title 41, United States                  Code (commonly referred to as the ``Buy American                  Act'');</DELETED>                 <DELETED>    (B) section 5323(j) of title 49, United                  States Code;</DELETED>                 <DELETED>    (C) section 313 of title 23, United States                  Code;</DELETED>                 <DELETED>    (D) section 50101 of title 49, United                  States Code;</DELETED>                 <DELETED>    (E) section 24405 of title 49, United                  States Code;</DELETED>                 <DELETED>    (F) section 608 of the Federal Water                  Pollution Control Act (33 U.S.C. 1388);</DELETED>                 <DELETED>    (G) section 1452(a)(4) of the Safe                  Drinking Water Act (42 U.S.C. 300j-12(a)(4));</DELETED>                 <DELETED>    (H) section 5035 of the Water Resources                  Reform and Development Act of 2014 (33 U.S.C.                  3914);</DELETED>                 <DELETED>    (I) section 2533a of title 10, United                  States Code (commonly referred to as the ``Berry                  Amendment'');</DELETED>                 <DELETED>    (J) section 2533b of title 10, United                  States Code; and</DELETED>                 <DELETED>    (K) section 604 of the American Recovery                  and Reinvestment Act of 2009 (6 U.S.C. 453b).</DELETED>         <DELETED>    (2) Executive agency.--The term ``executive          agency'' has the meaning given the term in section 133 of title          41, United States Code.</DELETED>  <DELETED>SEC. 3. SENSE OF CONGRESS ON BUYING AMERICAN.</DELETED>  <DELETED>    It is the sense of Congress that--</DELETED>         <DELETED>    (1) every executive agency should maximize,          through terms and conditions of Federal financial assistance          awards and Federal procurements, the use of goods, products,          and materials produced in the United States and contracts for          outsourced government service contracts to be performed by          United States nationals;</DELETED>         <DELETED>    (2) every executive agency should scrupulously          monitor, enforce, and comply with Buy American Laws, to the          extent they apply, and minimize the use of waivers;          and</DELETED>         <DELETED>    (3) every executive agency should implement          processes to routinely audit its compliance with Buy American          laws using data from the Federal Procurement Data System-Next          Generation.</DELETED>  <DELETED>SEC. 4. REPORT ON BUY AMERICAN COMPLIANCE EFFORTS.</DELETED>  <DELETED>    (a) In General.--Not later than 180 days after the date of  the enactment of this Act, and annually thereafter for two years, the  Secretary of Commerce, in consultation with the Director of the Office  of Management and Budget, the United States Trade Representative, the  Secretary of State, and the heads of other executive agencies, shall  submit to Congress and the President a report on the implementation of,  and compliance with, Buy American laws.</DELETED> <DELETED>    (b) Elements.--The report required under subsection (a)  shall include the following elements:</DELETED>         <DELETED>    (1) An assessment of the monitoring of,          enforcement of, implementation of, and compliance with Buy          American Laws within each executive agency.</DELETED>         <DELETED>    (2) A listing of each waiver and exception used by          an executive agency and an assessment of waivers by type and          impact on domestic jobs and manufacturing.</DELETED>         <DELETED>    (3) Recommendations for policies for executive          agencies to ensure that, to the extent permitted by law,          Federal financial assistance awards and Federal contacts          maximize the use of goods, products, and materials mined,          produced, and manufactured in the United States, including          manufactured products, components of manufactured products, and          materials such as steel, iron, aluminum, and cement and          services.</DELETED> <DELETED>    (c) Agency Reports.--Not later than 180 days after the  date of the enactment of this Act, and annually thereafter for two  years, the head of each executive agency shall submit to the Secretary  of Commerce and the Director of the Office of Management and Budget a  report on the implementation of, and compliance with, Buy American laws  and covering with respect to that agency the elements set forth in  subsection (b).</DELETED> <DELETED>    (d) Guidance.--The head of each executive agency shall  review the guidance issued to executive agencies in accordance with  Executive Order 13788 regarding assessment of waivers and policies  addressing Buy American laws and, as necessary, issue additional  guidance.</DELETED>  <DELETED>SEC. 5. ASSESSMENT OF IMPACT OF FREE TRADE                AGREEMENTS.</DELETED>  <DELETED>    Not later than 150 days after the date of the enactment of  this Act, the Secretary of Commerce and the United States Trade  Representative shall assess the impacts in a publicly available report  of all United States free trade agreements and the World Trade  Organization Agreement on Government Procurement on the operation of  Buy American Laws, including their impacts on the implementation of  domestic procurement preferences.</DELETED>  <DELETED>SEC. 6. JUDICIOUS USE OF WAIVERS.</DELETED>  <DELETED>    (a) In General.--To the extent permitted by law, public  interest waivers from Buy American Laws shall be construed to ensure  the maximum utilization of goods, products, and materials produced in  the United States.</DELETED> <DELETED>    (b) Public Interest Waiver Determinations.--To the extent  permitted by law, determination of public interest waivers shall be  made by the head of the agency with the authority over the Federal  financial assistance award or Federal procurement under  consideration.</DELETED>  <DELETED>SEC. 7. ESTABLISHMENT OF BUYAMERICAN.GOV WEBSITE.</DELETED>  <DELETED>    Not later than one year after the date of the enactment of  this Act, the Administrator of General Services shall establish an  internet website with the address BuyAmerican.gov that will be publicly  available and free to access. The website shall include information on  all waivers of and exceptions to Buy American laws that have been  requested, are under consideration, or have been granted by executive  agencies and be designed to enable manufacturers and other interested  parties to easily identify waivers. The website shall also include the  results of routine audits of the Federal Procurement Data System-Next  Generation to determine data errors and Buy American law violations  after the award of a contract. The website shall provide publicly  available contact information for the contracting agencies.</DELETED>  <DELETED>SEC. 8. WAIVER TRANSPARENCY AND STREAMLINING FOR                GRANTS.</DELETED>  <DELETED>    (a) Collection of Information.--The President, in  consultation with the heads of relevant agencies, shall develop a  mechanism to collect information on requests to waive Buy American laws  and other domestic content restrictions, utilizing existing reporting  requirements whenever possible, for purposes of providing early notice  to possible waivers via the website established under subsection (a).  The heads of executive agencies shall report to the Administrator as  quickly as possible waivers requested or under consideration and  waivers granted due to the non-availability of procured items or  service providers for purposes of posting such information on the  website established under such subsection.</DELETED> <DELETED>    (b) Waiver Transparency and Streamlining.--Not less than  20 days prior to waiving, under his or her statutory authority, any  applicable Buy American law, the head of an executive agency shall  submit to the Administrator of General Services a notice of the  agency's intention to waive the Buy American law. Not later than 5 days  after receiving this information from the head of an executive agency,  the Administrator of General Services shall make available to the  public, by posting on the website established under section 7, a copy  of the information provided pursuant to subsection (a), and shall allow  for informal public comment on the request for at least 15 days prior  to making a finding based on the request.</DELETED> <DELETED>    (c) Information Available to the Executive Agency  Concerning the Request.--</DELETED>         <DELETED>    (1) Requirement.--No requested waiver of an          applicable Buy American Law may be granted if, in contravention          of subsection (b)--</DELETED>                 <DELETED>    (A) information about the waiver was not                  made available on the website under section 7;                  or</DELETED>                 <DELETED>    (B) no opportunity for public comment                  concerning the request was granted.</DELETED>         <DELETED>    (2) Scope.--Information made available to the          public concerning the request included on the website described          in section 7 shall properly and adequately document and justify          the statutory basis cited for the requested waiver. Such          information shall include--</DELETED>                 <DELETED>    (A) a detailed justification for the use                  of goods, products, or materials mined, produced, or                  manufactured outside the United States;</DELETED>                 <DELETED>    (B) for requests citing unreasonable cost                  as the statutory basis of the waiver, a comparison of                  the cost of the domestic product to the cost of the                  foreign product or a comparison of the overall cost of                  the project with domestic products to the overall cost                  of the project with foreign-origin products or                  services, pursuant to the requirements of the                  applicable Buy American law, except that publicly                  available cost comparison data may be provided in lieu                  of proprietary pricing information;</DELETED>                 <DELETED>    (C) for requests citing the public                  interest as the statutory basis for the waiver, a                  detailed written statement, which shall include all                  appropriate factors, such as potential obligations                  under international agreements, justifying why the                  requested waiver is in the public interest;                  and</DELETED>                 <DELETED>    (D) a certification that the procurement                  official or assistance recipient made a good faith                  effort to solicit bids for domestic products supported                  by terms included in requests for proposals, contracts,                  and nonproprietary communications with the prime                  contractor.</DELETED> <DELETED>    (d) Nonavailability Waivers.--</DELETED>         <DELETED>    (1) In general.--Except as provided under          paragraph (2), for a request citing nonavailability as the          statutory basis for a waiver, an executive agency shall provide          an explanation of the procurement official's efforts to procure          a product from a domestic source and the reasons why a domestic          product was not suitable. Those explanations shall be made          available on BuyAmerican.gov prior to the issuance of the          waiver, and the agency shall consider public comments regarding          the availability of the product before making a final          determination.</DELETED>         <DELETED>    (2) Exception.--An explanation under paragraph (1)          is not required for a product the nonavailability of which is          established by law or regulation.</DELETED>  <DELETED>SEC. 9. WAIVER TRANSPARENCY AND STREAMLINING FOR                PROCUREMENT.</DELETED>  <DELETED>    (a) Publication of Information.--Not less than 20 days  prior to waiving, pursuant to statutory authority, any applicable Buy  American law, the head of an executive agency shall make information  concerning the intention to issue a waiver or exception in connection  with a Federal procurement available to the Administrator of General  Services. A notice of the agency's intention to waive a Buy American  law shall be made available to the public through BuyAmerican.gov and  shall include the statutory basis for exercise of the waiver or  exception.</DELETED> <DELETED>    (b) Nonavailability Waivers.--</DELETED>         <DELETED>    (1) In general.--Except as provided under          paragraph (2), for a request citing nonavailability as the          statutory basis for a waiver, an executive agency shall provide          an explanation of the procurement official's efforts to procure          a product from a domestic source and the reasons why a domestic          product was not suitable. The explanation shall be made          available on BuyAmerican.gov prior to the issuance of the          waiver, and the agency shall consider public comments regarding          the availability of the product before making a final          determination.</DELETED>         <DELETED>    (2) Exception.--An explanation under paragraph (1)          is not required for a product the nonavailability of which is          established by law or regulation.</DELETED>  <DELETED>SEC. 10. COMPTROLLER GENERAL REPORT.</DELETED>  <DELETED>    Not later than two years after the date of the enactment  of this Act, the Comptroller General of the United States shall submit  to Congress a report describing the implementation of this Act,  including recommendations for any legislation to improve the collection  and reporting of information regarding waivers of and exceptions to Buy  American laws.</DELETED>  <DELETED>SEC. 11. RULES OF CONSTRUCTION.</DELETED>  <DELETED>    (a) Disclosure Requirements.--Nothing in this Act shall be  construed as preempting, superseding, or otherwise affecting the  application of any disclosure requirement or requirements otherwise  provided by law or regulation.</DELETED> <DELETED>    (b) Establishment of Successor Information Systems.-- Nothing in this Act shall be construed as preventing or otherwise  limiting the ability of the Administrator of General Services to move  the data required to be included on the website established under  subsection (a) to a successor information system. Any such information  system shall include a reference to BuyAmerican.gov.</DELETED>  <DELETED>SEC. 12. CONSISTENCY WITH INTERNATIONAL AGREEMENTS.</DELETED>  <DELETED>    This Act shall be applied in a manner consistent with  United States obligations under international agreements.</DELETED>  SECTION 1. SHORT TITLE.      This Act may be cited as the ``BuyAmerican.gov Act of 2021''.  SEC. 2. DEFINITIONS.      In this Act:             (1) Buy american law.--The term ``Buy American law'' means          any law, regulation, Executive order, or rule relating to          Federal contracts, grants, or financial assistance that          requires or provides a preference for the purchase or use of          goods, products, or materials mined, produced, or manufactured          in the United States, including--                     (A) chapter 83 of title 41, United States Code                  (commonly referred to as the ``Buy American Act'');                     (B) section 5323(j) of title 49, United States                  Code;                     (C) section 313 of title 23, United States Code;                     (D) section 50101 of title 49, United States Code;                     (E) section 24405 of title 49, United States Code;                     (F) section 608 of the Federal Water Pollution                  Control Act (33 U.S.C. 1388);                     (G) section 1452(a)(4) of the Safe Drinking Water                  Act (42 U.S.C. 300j-12(a)(4));                     (H) section 5035 of the Water Resources Reform and                  Development Act of 2014 (33 U.S.C. 3914);                     (I) section 2533a of title 10, United States Code                  (commonly referred to as the ``Berry Amendment''); and                     (J) section 2533b of title 10, United States Code.             (2) Executive agency.--The term ``executive agency'' has          the meaning given the term ``agency'' in paragraph (1) of          section 3502 of title 44, United States Code, except that it          does not include an independent regulatory agency, as that term          is defined in paragraph (5) of such section.             (3) Buy american waiver.--The term ``Buy American waiver''          refers to an exception to or waiver of any Buy American law, or          the terms and conditions used by an agency in granting an          exception to or waiver from Buy American laws.  SEC. 3. SENSE OF CONGRESS ON BUYING AMERICAN.      It is the sense of Congress that--             (1) every executive agency should maximize, through terms          and conditions of Federal financial assistance awards and          Federal procurements, the use of goods, products, and materials          produced in the United States and contracts for outsourced          government service contracts to be performed by United States          nationals;             (2) every executive agency should scrupulously monitor,          enforce, and comply with Buy American laws, to the extent they          apply, and minimize the use of waivers; and             (3) every executive agency should use available data to          routinely audit its compliance with Buy American laws.  SEC. 4. ASSESSMENT OF IMPACT OF FREE TRADE AGREEMENTS.      Not later than 150 days after the date of the enactment of this  Act, the Secretary of Commerce, the United States Trade Representative,  and the Director of the Office of Management and Budget shall assess  the impacts in a publicly available report of all United States free  trade agreements, the World Trade Organization Agreement on Government  Procurement, and Federal permitting processes on the operation of Buy  American laws, including their impacts on the implementation of  domestic procurement preferences.  SEC. 5. JUDICIOUS USE OF WAIVERS.      (a) In General.--To the extent permitted by law, a Buy American  waiver that is determined by an agency head or other relevant official  to be in the public interest shall be construed to ensure the maximum  utilization of goods, products, and materials produced in the United  States.     (b) Public Interest Waiver Determinations.--To the extent permitted  by law, determination of public interest waivers shall be made by the  head of the agency with the authority over the Federal financial  assistance award or Federal procurement under consideration.  SEC. 6. ESTABLISHMENT OF BUYAMERICAN.GOV WEBSITE.      (a) In General.--Not later than one year after the date of the  enactment of this Act, the Administrator of General Services shall  establish an Internet website with the address BuyAmerican.gov that  will be publicly available and free to access. The website shall  include information on all waivers of and exceptions to Buy American  laws since the date of the enactment of this Act that have been  requested, are under consideration, or have been granted by executive  agencies and be designed to enable manufacturers and other interested  parties to easily identify waivers. The website shall also include the  results of routine audits to determine data errors and Buy American law  violations after the award of a contract. The website shall provide  publicly available contact information for the relevant contracting  agencies.     (b) Utilization of Existing Website.--The requirements of  subsection (a) may be met by utilizing an existing website, provided  that the address of that website is BuyAmerican.gov.  SEC. 7. WAIVER TRANSPARENCY AND STREAMLINING FOR CONTRACTS.      (a) Collection of Information.--The Administrator of General  Services, in consultation with the heads of relevant agencies, shall  develop a mechanism to collect information on requests to invoke a Buy  American waiver for a Federal contract, utilizing existing reporting  requirements whenever possible, for purposes of providing early notice  of possible waivers via the website established under section 6.     (b) Waiver Transparency and Streamlining.--             (1) Requirement.--Prior to granting a request to waive a          Buy American law, the head of an executive agency shall submit          a request to invoke a Buy American waiver to the Administrator          of General Services, and the Administrator of General Services          shall make the request available on or through the public          website established under section 6 for public comment for not          less than 15 days.             (2) Exception.--The requirement under paragraph (1) does          not apply to a request for a Buy American waiver to satisfy an          urgent contracting need in an unforeseen and exigent          circumstance.     (c) Information Available to the Executive Agency Concerning the  Request.--             (1) Requirement.--No Buy American waiver for purposes of          awarding a contract may be granted if, in contravention of          subsection (b)--                     (A) information about the waiver was not made                  available on the website under section 6; or                     (B) no opportunity for public comment concerning                  the request was granted.             (2) Scope.--Information made available to the public          concerning the request included on the website described in          section 6 shall properly and adequately document and justify          the statutory basis cited for the requested waiver. Such          information shall include--                     (A) a detailed justification for the use of goods,                  products, or materials mined, produced, or manufactured                  outside the United States;                     (B) for requests citing unreasonable cost as the                  statutory basis of the waiver, a comparison of the cost                  of the domestic product to the cost of the foreign                  product or a comparison of the overall cost of the                  project with domestic products to the overall cost of                  the project with foreign-origin products or services,                  pursuant to the requirements of the applicable Buy                  American law, except that publicly available cost                  comparison data may be provided in lieu of proprietary                  pricing information;                     (C) for requests citing the public interest as the                  statutory basis for the waiver, a detailed written                  statement, which shall include all appropriate factors,                  such as potential obligations under international                  agreements, justifying why the requested waiver is in                  the public interest; and                     (D) a certification that the procurement official                  or assistance recipient made a good faith effort to                  solicit bids for domestic products supported by terms                  included in requests for proposals, contracts, and                  nonproprietary communications with the prime                  contractor.     (d) Nonavailability Waivers.--             (1) In general.--Except as provided under paragraph (2),          for a request citing nonavailability as the statutory basis for          a Buy American waiver, an executive agency shall provide an          explanation of the procurement official's efforts to procure a          product from a domestic source and the reasons why a domestic          product was not available from a domestic source. Those          explanations shall be made available on BuyAmerican.gov prior          to the issuance of the waiver, and the agency shall consider          public comments regarding the availability of the product          before making a final determination.             (2) Exception.--An explanation under paragraph (1) is not          required for a product the nonavailability of which is          established by law or regulation.  SEC. 8. COMPTROLLER GENERAL REPORT.      Not later than two years after the date of the enactment of this  Act, the Comptroller General of the United States shall submit to  Congress a report describing the implementation of this Act, including  recommendations for any legislation to improve the collection and  reporting of information regarding waivers of and exceptions to Buy  American laws.  SEC. 9. RULES OF CONSTRUCTION.      (a) Disclosure Requirements.--Nothing in this Act shall be  construed as preempting, superseding, or otherwise affecting the  application of any disclosure requirement or requirements otherwise  provided by law or regulation.     (b) Establishment of Successor Information Systems.--Nothing in  this Act shall be construed as preventing or otherwise limiting the  ability of the Administrator of General Services to move the data  required to be included on the website established under subsection (a)  to a successor information system. Any such information system shall  include a reference to BuyAmerican.gov.  SEC. 10. CONSISTENCY WITH INTERNATIONAL AGREEMENTS.      This Act shall be applied in a manner consistent with United States  obligations under international agreements.  SEC. 11. PROSPECTIVE AMENDMENTS TO INTERNAL CROSS-REFERENCES.      (a) In General.--Section 2(1) is amended--             (1) in subparagraph (I), by striking ``section 2533a'' and          inserting ``section 4862''; and             (2) in subparagraph (J), by striking ``section 2533b'' and          inserting ``section 4863''.     (b) Effective Date.--The amendments made by subsection (a) shall  take effect on January 1, 2022.                                                        Calendar No. 586  117th CONGRESS    2d Session                                   S. 732                            [Report No. 117-227]  _______________________________________________________________________                                   A BILL      To strengthen Buy American requirements, and for other purposes.  _______________________________________________________________________                              December 5, 2022                         Reported with an amendment [Congressional Bills 117th Congress] [From the U.S. Government Publishing Office] [S. 732 Introduced in Senate (IS)]  <DOC>       117th CONGRESS   1st Session                                  S. 732      To strengthen Buy American requirements, and for other purposes.   _______________________________________________________________________                      IN THE SENATE OF THE UNITED STATES                               March 11, 2021   Mr. Portman (for himself, Mr. Murphy, Mr. Graham, Mr. Brown, and Ms.     Stabenow) introduced the following bill; which was read twice and  referred to the Committee on Homeland Security and Governmental Affairs  _______________________________________________________________________                                   A BILL         To strengthen Buy American requirements, and for other purposes.      Be it enacted by the Senate and House of Representatives of the  United States of America in Congress assembled,  SECTION 1. SHORT TITLE.      This Act may be cited as the ``BuyAmerican.gov Act of 2021''.  SEC. 2. DEFINITIONS.      In this Act:             (1) Buy american law.--The term ``Buy American law'' means          any law, regulation, Executive order, or rule relating to          Federal contracts, grants, or financial assistance that          requires or provides a preference for the purchase or use of          goods, products, or materials mined, produced, or manufactured          in the United States, including--                     (A) chapter 83 of title 41, United States Code                  (commonly referred to as the ``Buy American Act'');                     (B) section 5323(j) of title 49, United States                  Code;                     (C) section 313 of title 23, United States Code;                     (D) section 50101 of title 49, United States Code;                     (E) section 24405 of title 49, United States Code;                     (F) section 608 of the Federal Water Pollution                  Control Act (33 U.S.C. 1388);                     (G) section 1452(a)(4) of the Safe Drinking Water                  Act (42 U.S.C. 300j-12(a)(4));                     (H) section 5035 of the Water Resources Reform and                  Development Act of 2014 (33 U.S.C. 3914);                     (I) section 2533a of title 10, United States Code                  (commonly referred to as the ``Berry Amendment'');                     (J) section 2533b of title 10, United States Code;                  and                     (K) section 604 of the American Recovery and                  Reinvestment Act of 2009 (6 U.S.C. 453b).             (2) Executive agency.--The term ``executive agency'' has          the meaning given the term in section 133 of title 41, United          States Code.  SEC. 3. SENSE OF CONGRESS ON BUYING AMERICAN.      It is the sense of Congress that--             (1) every executive agency should maximize, through terms          and conditions of Federal financial assistance awards and          Federal procurements, the use of goods, products, and materials          produced in the United States and contracts for outsourced          government service contracts to be performed by United States          nationals;             (2) every executive agency should scrupulously monitor,          enforce, and comply with Buy American Laws, to the extent they          apply, and minimize the use of waivers; and             (3) every executive agency should implement processes to          routinely audit its compliance with Buy American laws using          data from the Federal Procurement Data System-Next Generation.  SEC. 4. REPORT ON BUY AMERICAN COMPLIANCE EFFORTS.      (a) In General.--Not later than 180 days after the date of the  enactment of this Act, and annually thereafter for two years, the  Secretary of Commerce, in consultation with the Director of the Office  of Management and Budget, the United States Trade Representative, the  Secretary of State, and the heads of other executive agencies, shall  submit to Congress and the President a report on the implementation of,  and compliance with, Buy American laws.     (b) Elements.--The report required under subsection (a) shall  include the following elements:             (1) An assessment of the monitoring of, enforcement of,          implementation of, and compliance with Buy American Laws within          each executive agency.             (2) A listing of each waiver and exception used by an          executive agency and an assessment of waivers by type and          impact on domestic jobs and manufacturing.             (3) Recommendations for policies for executive agencies to          ensure that, to the extent permitted by law, Federal financial          assistance awards and Federal contacts maximize the use of          goods, products, and materials mined, produced, and          manufactured in the United States, including manufactured          products, components of manufactured products, and materials          such as steel, iron, aluminum, and cement and services.     (c) Agency Reports.--Not later than 180 days after the date of the  enactment of this Act, and annually thereafter for two years, the head  of each executive agency shall submit to the Secretary of Commerce and  the Director of the Office of Management and Budget a report on the  implementation of, and compliance with, Buy American laws and covering  with respect to that agency the elements set forth in subsection (b).     (d) Guidance.--The head of each executive agency shall review the  guidance issued to executive agencies in accordance with Executive  Order 13788 regarding assessment of waivers and policies addressing Buy  American laws and, as necessary, issue additional guidance.  SEC. 5. ASSESSMENT OF IMPACT OF FREE TRADE AGREEMENTS.      Not later than 150 days after the date of the enactment of this  Act, the Secretary of Commerce and the United States Trade  Representative shall assess the impacts in a publicly available report  of all United States free trade agreements and the World Trade  Organization Agreement on Government Procurement on the operation of  Buy American Laws, including their impacts on the implementation of  domestic procurement preferences.  SEC. 6. JUDICIOUS USE OF WAIVERS.      (a) In General.--To the extent permitted by law, public interest  waivers from Buy American Laws shall be construed to ensure the maximum  utilization of goods, products, and materials produced in the United  States.     (b) Public Interest Waiver Determinations.--To the extent permitted  by law, determination of public interest waivers shall be made by the  head of the agency with the authority over the Federal financial  assistance award or Federal procurement under consideration.  SEC. 7. ESTABLISHMENT OF BUYAMERICAN.GOV WEBSITE.      Not later than one year after the date of the enactment of this  Act, the Administrator of General Services shall establish an internet  website with the address BuyAmerican.gov that will be publicly  available and free to access. The website shall include information on  all waivers of and exceptions to Buy American laws that have been  requested, are under consideration, or have been granted by executive  agencies and be designed to enable manufacturers and other interested  parties to easily identify waivers. The website shall also include the  results of routine audits of the Federal Procurement Data System-Next  Generation to determine data errors and Buy American law violations  after the award of a contract. The website shall provide publicly  available contact information for the contracting agencies.  SEC. 8. WAIVER TRANSPARENCY AND STREAMLINING FOR GRANTS.      (a) Collection of Information.--The President, in consultation with  the heads of relevant agencies, shall develop a mechanism to collect  information on requests to waive Buy American laws and other domestic  content restrictions, utilizing existing reporting requirements  whenever possible, for purposes of providing early notice to possible  waivers via the website established under subsection (a). The heads of  executive agencies shall report to the Administrator as quickly as  possible waivers requested or under consideration and waivers granted  due to the non-availability of procured items or service providers for  purposes of posting such information on the website established under  such subsection.     (b) Waiver Transparency and Streamlining.--Not less than 20 days  prior to waiving, under his or her statutory authority, any applicable  Buy American law, the head of an executive agency shall submit to the  Administrator of General Services a notice of the agency's intention to  waive the Buy American law. Not later than 5 days after receiving this  information from the head of an executive agency, the Administrator of  General Services shall make available to the public, by posting on the  website established under section 7, a copy of the information provided  pursuant to subsection (a), and shall allow for informal public comment  on the request for at least 15 days prior to making a finding based on  the request.     (c) Information Available to the Executive Agency Concerning the  Request.--             (1) Requirement.--No requested waiver of an applicable Buy          American Law may be granted if, in contravention of subsection          (b)--                     (A) information about the waiver was not made                  available on the website under section 7; or                     (B) no opportunity for public comment concerning                  the request was granted.             (2) Scope.--Information made available to the public          concerning the request included on the website described in          section 7 shall properly and adequately document and justify          the statutory basis cited for the requested waiver. Such          information shall include--                     (A) a detailed justification for the use of goods,                  products, or materials mined, produced, or manufactured                  outside the United States;                     (B) for requests citing unreasonable cost as the                  statutory basis of the waiver, a comparison of the cost                  of the domestic product to the cost of the foreign                  product or a comparison of the overall cost of the                  project with domestic products to the overall cost of                  the project with foreign-origin products or services,                  pursuant to the requirements of the applicable Buy                  American law, except that publicly available cost                  comparison data may be provided in lieu of proprietary                  pricing information;                     (C) for requests citing the public interest as the                  statutory basis for the waiver, a detailed written                  statement, which shall include all appropriate factors,                  such as potential obligations under international                  agreements, justifying why the requested waiver is in                  the public interest; and                     (D) a certification that the procurement official                  or assistance recipient made a good faith effort to                  solicit bids for domestic products supported by terms                  included in requests for proposals, contracts, and                  nonproprietary communications with the prime                  contractor.     (d) Nonavailability Waivers.--             (1) In general.--Except as provided under paragraph (2),          for a request citing nonavailability as the statutory basis for          a waiver, an executive agency shall provide an explanation of          the procurement official's efforts to procure a product from a          domestic source and the reasons why a domestic product was not          suitable. Those explanations shall be made available on          BuyAmerican.gov prior to the issuance of the waiver, and the          agency shall consider public comments regarding the          availability of the product before making a final          determination.             (2) Exception.--An explanation under paragraph (1) is not          required for a product the nonavailability of which is          established by law or regulation.  SEC. 9. WAIVER TRANSPARENCY AND STREAMLINING FOR PROCUREMENT.      (a) Publication of Information.--Not less than 20 days prior to  waiving, pursuant to statutory authority, any applicable Buy American  law, the head of an executive agency shall make information concerning  the intention to issue a waiver or exception in connection with a  Federal procurement available to the Administrator of General Services.  A notice of the agency's intention to waive a Buy American law shall be  made available to the public through BuyAmerican.gov and shall include  the statutory basis for exercise of the waiver or exception.     (b) Nonavailability Waivers.--             (1) In general.--Except as provided under paragraph (2),          for a request citing nonavailability as the statutory basis for          a waiver, an executive agency shall provide an explanation of          the procurement official's efforts to procure a product from a          domestic source and the reasons why a domestic product was not          suitable. The explanation shall be made available on          BuyAmerican.gov prior to the issuance of the waiver, and the          agency shall consider public comments regarding the          availability of the product before making a final          determination.             (2) Exception.--An explanation under paragraph (1) is not          required for a product the nonavailability of which is          established by law or regulation.  SEC. 10. COMPTROLLER GENERAL REPORT.      Not later than two years after the date of the enactment of this  Act, the Comptroller General of the United States shall submit to  Congress a report describing the implementation of this Act, including  recommendations for any legislation to improve the collection and  reporting of information regarding waivers of and exceptions to Buy  American laws.  SEC. 11. RULES OF CONSTRUCTION.      (a) Disclosure Requirements.--Nothing in this Act shall be  construed as preempting, superseding, or otherwise affecting the  application of any disclosure requirement or requirements otherwise  provided by law or regulation.     (b) Establishment of Successor Information Systems.--Nothing in  this Act shall be construed as preventing or otherwise limiting the  ability of the Administrator of General Services to move the data  required to be included on the website established under subsection (a)  to a successor information system. Any such information system shall  include a reference to BuyAmerican.gov.  SEC. 12. CONSISTENCY WITH INTERNATIONAL AGREEMENTS.      This Act shall be applied in a manner consistent with United States  obligations under international agreements.                                  <all>\n",
      "\n",
      "0\n",
      "1\n"
     ]
    }
   ],
   "source": [
    "VoxGov_post = []\n",
    "all_cnt = 0\n",
    "\n",
    "with open('VoxGov.jsonl', 'r') as file:\n",
    "    for i, line in enumerate(file, start=1):\n",
    "        data = json.loads(line.strip())\n",
    "        all_cnt += 1\n",
    "        try:\n",
    "            if 'world trade organization' not in data['text'].lower() or 'wto' not in data['text'].lower():\n",
    "                print(data['id'])\n",
    "                print(data['url'])\n",
    "                print(data['text'], end='\\n\\n')\n",
    "                # VoxGov_post.append([≈, data['source'], data['sourceType'], data['title'], data['text'], data['url'], data['date'], \n",
    "                #                     data['organizations'], data['places']])\n",
    "                break\n",
    "        except:\n",
    "            continue\n",
    "\n",
    "print(len(VoxGov_post))\n",
    "print(all_cnt)"
   ]
  },
  {
   "cell_type": "code",
   "execution_count": 164,
   "metadata": {},
   "outputs": [
    {
     "data": {
      "text/plain": [
       "dict_keys(['id', 'title', 'date', 'source', 'sourceType', 'keywords', 'names', 'organizations', 'places', 'isCurrent', 'wordCount', 'contentType', 'url', 'text'])"
      ]
     },
     "execution_count": 164,
     "metadata": {},
     "output_type": "execute_result"
    }
   ],
   "source": [
    "data.keys()"
   ]
  },
  {
   "cell_type": "code",
   "execution_count": null,
   "metadata": {},
   "outputs": [],
   "source": []
  }
 ],
 "metadata": {
  "kernelspec": {
   "display_name": "python39",
   "language": "python",
   "name": "python3"
  },
  "language_info": {
   "codemirror_mode": {
    "name": "ipython",
    "version": 3
   },
   "file_extension": ".py",
   "mimetype": "text/x-python",
   "name": "python",
   "nbconvert_exporter": "python",
   "pygments_lexer": "ipython3",
   "version": "3.9.17"
  }
 },
 "nbformat": 4,
 "nbformat_minor": 2
}
